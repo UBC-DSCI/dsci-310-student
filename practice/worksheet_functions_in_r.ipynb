{
 "cells": [
  {
   "cell_type": "markdown",
   "id": "46ad2ecd-574f-491e-90f8-3c33bf3b209f",
   "metadata": {},
   "source": [
    "# Functions in R worksheet!\n",
    "\n",
    "Welcome to the functions in R! This worksheet was designed to allow you to get some hands-on practice writing functions in R. This will help you prepare to abstract some of the code in your group projects to functions for milestone 2!\n",
    "\n"
   ]
  },
  {
   "cell_type": "code",
   "execution_count": null,
   "id": "f741b76e-c81a-4c8b-8f72-d85ad278a905",
   "metadata": {},
   "outputs": [],
   "source": [
    "library(palmerpenguins)\n",
    "library(testthat)\n",
    "library(tidyverse)\n",
    "source(\"test_worksheet_functions_in_r.r\")\n",
    "options(repr.matrix.max.rows = 10)"
   ]
  },
  {
   "cell_type": "markdown",
   "id": "5d1d8592-d40b-4142-b831-5773c9ff9c22",
   "metadata": {},
   "source": [
    "## Exercise 1\n",
    "\n",
    "Write a function called `mpg_to_kml` that takes a vector of numbers in miles per gallon units and converts it to a vector in kilometeres per litre.\n",
    "\n",
    "*Hint: 1 mile per gallon is 0.425144 kilometres per litre.*"
   ]
  },
  {
   "cell_type": "code",
   "execution_count": null,
   "id": "84d98131-7870-4aaf-a6e7-e16a458c42e2",
   "metadata": {},
   "outputs": [],
   "source": [
    "mpg_to_kml <- NULL\n",
    "\n",
    "mpg_to_kml(1)"
   ]
  },
  {
   "cell_type": "code",
   "execution_count": null,
   "id": "18fb48bc-2aca-419a-a317-d96064726e11",
   "metadata": {},
   "outputs": [],
   "source": [
    "# run this cell to check your answer!\n",
    "test_1()"
   ]
  },
  {
   "cell_type": "markdown",
   "id": "52db4f29-998f-4a82-9b01-f005ce994a63",
   "metadata": {},
   "source": [
    "## Exercise 2\n",
    "\n",
    "Rewrite the `mpg_to_kml` function and add exception handling to it so that you can handle inappropriate user input, such as character vectors, lists or data frames.\n",
    "\n",
    "<img src=\"img/fail-you-will-fail-fast-you-should.jpg\" width=300>\n",
    "\n",
    "Source: Star Wars + https://memegenerator.net/"
   ]
  },
  {
   "cell_type": "code",
   "execution_count": null,
   "id": "ec9d4d0f-870c-4f55-8cf0-e215b0b40910",
   "metadata": {},
   "outputs": [],
   "source": [
    "# YOUR CODE HERE"
   ]
  },
  {
   "cell_type": "code",
   "execution_count": null,
   "id": "fe713a27-049e-48c6-ba22-7828ea2d4dc5",
   "metadata": {},
   "outputs": [],
   "source": [
    "test_2()"
   ]
  },
  {
   "cell_type": "markdown",
   "id": "5ec8fdcc-fa09-41a5-8ce6-f144cbed3e43",
   "metadata": {},
   "source": [
    "## Exercise 3\n",
    "*Solution posted at end of worksheet.*\n",
    "\n",
    "Rewrite the `mpg_to_kml` function and add `roxygen2` style documentation for your function!"
   ]
  },
  {
   "cell_type": "code",
   "execution_count": null,
   "id": "389308ba-c510-4ab8-8ce9-7443cb5f21cc",
   "metadata": {},
   "outputs": [],
   "source": [
    "# YOUR CODE HERE"
   ]
  },
  {
   "cell_type": "markdown",
   "id": "ff025fa4-a18f-45e1-bae2-7128efab680c",
   "metadata": {},
   "source": [
    "## Exercise 4\n",
    "\n",
    "The get_rectangle function shown below does not work for unquoted column names. Use the {{ operator to embrace the column names/user inputs given by the user so that the function works as described:\n",
    "\n",
    "```\n",
    "#' Get smaller rectangle from a bigger data frame\n",
    "#' \n",
    "#' `get_rectangle` subsets a data frame using filter and select syntax.\n",
    "#'\n",
    "#' @param data A data frame to subset\n",
    "#' @param row_filter filter logical syntax used to filter rows, column name should be unquoted.\n",
    "#' @param column_range select syntax (single column or range via `col1:coln`) to \n",
    "#' select columns, default is everything\n",
    "#'\n",
    "#' @return A smaller/subsetted data frame\n",
    "#' @export\n",
    "#'\n",
    "#' @examples\n",
    "#' library(palmerpenguins)\n",
    "#' get_rectangle(penguins, body_mass_g > 3000, species:island)\n",
    "get_rectangle <- function(data, row_filter, column_range = everything()) {\n",
    "    data |> \n",
    "        filter(row_filter) |> \n",
    "        select(column_range)\n",
    "}\n",
    "```\n",
    "\n",
    "*Hint: embracing works for more than just a column name - you can even embrace a variable that will hold a filter logical statement (e.g., body_mass_g > 3000).*"
   ]
  },
  {
   "cell_type": "code",
   "execution_count": null,
   "id": "655c21b4-daa7-4c2c-a139-ed33a18109d5",
   "metadata": {},
   "outputs": [],
   "source": [
    "# YOUR CORRECTED CODE HERE\n",
    "\n",
    "get_rectangle(penguins, body_mass_g > 3000, species:island)"
   ]
  },
  {
   "cell_type": "code",
   "execution_count": null,
   "id": "c65aecee-7d7e-458b-b828-feefc1e62ee9",
   "metadata": {},
   "outputs": [],
   "source": [
    "test_4()"
   ]
  },
  {
   "cell_type": "markdown",
   "id": "c68d7c61-907b-46c5-9218-2633288fce9e",
   "metadata": {},
   "source": [
    "# Exercise 5\n",
    "\n",
    "The nest_and_count function shown below does not work. Your task is to identify why and fix it so that the function works as described:\n",
    "\n",
    "```\n",
    "#' Nest data and count observations in each group\n",
    "#'\n",
    "#' @param data A data frame\n",
    "#' @param nest_by A column to group by. Column name should be unquoted.\n",
    "#' @param col_name A new column name for the count column. Column name should be unquoted.\n",
    "#'\n",
    "#' @return A data frame where the data, other than the group specified in \n",
    "#' `nest_by`, is nested. The number of rows for each data frame in the list\n",
    "#' column is given in a column whose name is specified by the user.\n",
    "#' @export\n",
    "#'\n",
    "#' @examples\n",
    "#' library(palmerpenguins)\n",
    "#' nest_and_count(penguins, species, n)\n",
    "nest_and_count <- function(data, nest_by, col_name) {\n",
    "    data |> \n",
    "        group_by({{ nest_by }}) |> \n",
    "        nest() |> \n",
    "        mutate({{ col_name }} = map_dbl(data, nrow))\n",
    "}\n",
    "```"
   ]
  },
  {
   "cell_type": "code",
   "execution_count": null,
   "id": "53659ae4-3f24-47e5-92b1-a7b1667bdef1",
   "metadata": {},
   "outputs": [],
   "source": [
    "# YOUR CORRECTED CODE HERE\n",
    "\n",
    "nest_and_count(penguins, species, n) |> print()"
   ]
  },
  {
   "cell_type": "code",
   "execution_count": null,
   "id": "d098e030-4389-4345-83f7-f46733c5affb",
   "metadata": {},
   "outputs": [],
   "source": [
    "test_5()"
   ]
  },
  {
   "cell_type": "markdown",
   "id": "4bb9dde6-5d94-4098-bd55-201baaeeb429",
   "metadata": {},
   "source": [
    "## Solution to Exercise 3\n",
    "\n",
    "Roxygen2 comments only:\n",
    "\n",
    "```\n",
    "#' Miles per gallon to kilometres per litre\n",
    "#'\n",
    "#' Convert a fuel efficiency from miles per gallon to kilometres per litre.\n",
    "#'\n",
    "#' @param x numeric\n",
    "#'\n",
    "#' @return numeric\n",
    "#' @export\n",
    "#'\n",
    "#' @examples\n",
    "#' mpg_to_kml(1)\n",
    "```"
   ]
  }
 ],
 "metadata": {
  "kernelspec": {
   "display_name": "R",
   "language": "R",
   "name": "ir"
  },
  "language_info": {
   "codemirror_mode": "r",
   "file_extension": ".r",
   "mimetype": "text/x-r-source",
   "name": "R",
   "pygments_lexer": "r",
   "version": "4.1.2"
  }
 },
 "nbformat": 4,
 "nbformat_minor": 5
}
